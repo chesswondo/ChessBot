{
 "cells": [
  {
   "cell_type": "code",
   "execution_count": 6,
   "id": "23d80379-9f92-4b24-aff4-bc58d68cf704",
   "metadata": {},
   "outputs": [
    {
     "data": {
      "text/plain": [
       "{'Debug Log File': '',\n",
       " 'Contempt': 0,\n",
       " 'Min Split Depth': 0,\n",
       " 'Ponder': 'false',\n",
       " 'MultiPV': 1,\n",
       " 'Skill Level': 20,\n",
       " 'Move Overhead': 10,\n",
       " 'Minimum Thinking Time': 20,\n",
       " 'Slow Mover': 100,\n",
       " 'UCI_Chess960': 'false',\n",
       " 'UCI_LimitStrength': 'false',\n",
       " 'UCI_Elo': 1350,\n",
       " 'Threads': 1,\n",
       " 'Hash': 16}"
      ]
     },
     "execution_count": 6,
     "metadata": {},
     "output_type": "execute_result"
    }
   ],
   "source": [
    "from stockfish import Stockfish\n",
    "stockfish = Stockfish('C:/Users/user/Projects/chess_bot/assets/models/chess_engine/stockfish/stockfish-windows-x86-64-avx2')\n",
    "stockfish.get_parameters()"
   ]
  },
  {
   "cell_type": "code",
   "execution_count": 2,
   "id": "c732999b",
   "metadata": {},
   "outputs": [
    {
     "name": "stdout",
     "output_type": "stream",
     "text": [
      "Loads checkpoint by local backend from path: ./work_dirs/rtmdet_chess_net/best_coco_bbox_mAP_epoch_164.pth\n"
     ]
    },
    {
     "data": {
      "text/html": [
       "<pre style=\"white-space:pre;overflow-x:auto;line-height:normal;font-family:Menlo,'DejaVu Sans Mono',consolas,'Courier New',monospace\">c:\\ProgramData\\miniconda3\\envs\\chess_env\\Lib\\site-packages\\rich\\live.py:231: UserWarning: install \"ipywidgets\" for \n",
       "Jupyter support\n",
       "  warnings.warn('install \"ipywidgets\" for Jupyter support')\n",
       "</pre>\n"
      ],
      "text/plain": [
       "c:\\ProgramData\\miniconda3\\envs\\chess_env\\Lib\\site-packages\\rich\\live.py:231: UserWarning: install \"ipywidgets\" for \n",
       "Jupyter support\n",
       "  warnings.warn('install \"ipywidgets\" for Jupyter support')\n"
      ]
     },
     "metadata": {},
     "output_type": "display_data"
    },
    {
     "name": "stderr",
     "output_type": "stream",
     "text": [
      "c:\\ProgramData\\miniconda3\\envs\\chess_env\\Lib\\site-packages\\mmengine\\visualization\\visualizer.py:196: UserWarning: Failed to add <class 'mmengine.visualization.vis_backend.LocalVisBackend'>, please provide the `save_dir` argument.\n",
      "  warnings.warn(f'Failed to add {vis_backend.__class__}, '\n",
      "c:\\ProgramData\\miniconda3\\envs\\chess_env\\Lib\\site-packages\\mmengine\\visualization\\visualizer.py:196: UserWarning: Failed to add <class 'mmengine.visualization.vis_backend.TensorboardVisBackend'>, please provide the `save_dir` argument.\n",
      "  warnings.warn(f'Failed to add {vis_backend.__class__}, '\n"
     ]
    },
    {
     "data": {
      "text/html": [
       "<pre style=\"white-space:pre;overflow-x:auto;line-height:normal;font-family:Menlo,'DejaVu Sans Mono',consolas,'Courier New',monospace\"></pre>\n"
      ],
      "text/plain": []
     },
     "metadata": {},
     "output_type": "display_data"
    },
    {
     "data": {
      "text/html": [
       "<pre style=\"white-space:pre;overflow-x:auto;line-height:normal;font-family:Menlo,'DejaVu Sans Mono',consolas,'Courier New',monospace\">\n",
       "</pre>\n"
      ],
      "text/plain": [
       "\n"
      ]
     },
     "metadata": {},
     "output_type": "display_data"
    },
    {
     "name": "stdout",
     "output_type": "stream",
     "text": [
      "6k1/2p2p2/2n1k1p1/1p1pp1Nn/3pN2P/Q2P3P/1P3P2/6N1 w KQkq - 0 1\n"
     ]
    }
   ],
   "source": [
    "from mmdet.apis import DetInferencer\n",
    "import glob\n",
    "import cv2\n",
    "from utils.pieces_detection.detection_utils import filter_detections, ChessBoard\n",
    "from utils.pieces_detection.visualization_utils import draw_bboxes\n",
    "\n",
    "class_names = {0:  'pieces',\n",
    "               1:  'bishop',\n",
    "               2:  'black-bishop',\n",
    "               3:  'black-king',\n",
    "               4:  'black-knight',\n",
    "               5:  'black-pawn',\n",
    "               6:  'black-queen',\n",
    "               7:  'black-rook',\n",
    "               8:  'white-bishop',\n",
    "               9:  'white-king',\n",
    "               10: 'white-knight',\n",
    "               11: 'white-pawn',\n",
    "               12: 'white-queen',\n",
    "               13: 'white-rook',\n",
    "               14: 'chess-board',\n",
    "               }\n",
    "\n",
    "# Choose to use a config\n",
    "config = 'assets/models/pieces_detection/rtmdet-tiny/rtmdet_chess_net.py'\n",
    "# Setup a checkpoint file to load\n",
    "checkpoint = glob.glob('./work_dirs/rtmdet_chess_net/best_coco_bbox_mAP_epoch_164.pth')[0]\n",
    "\n",
    "# Set the device to be used for evaluation\n",
    "device = 'cpu'\n",
    "\n",
    "# Initialize the DetInferencer\n",
    "inferencer = DetInferencer(config, checkpoint, device)\n",
    "\n",
    "# Use the detector to do inference\n",
    "img = './dataset/chess_net/val/image_2024-02-13_15-57-57.png'\n",
    "\n",
    "result = filter_detections(inferencer(img), 0.1, 0.3)\n",
    "image = draw_bboxes(cv2.imread(img), result['predictions'][0]['bboxes'], result['predictions'][0]['labels'], class_names)\n",
    "\n",
    "chess_board = ChessBoard(result['predictions'][0]['labels'], result['predictions'][0]['bboxes'])\n",
    "print(chess_board.detections_to_fen())\n",
    "\n",
    "# Displaying the image \n",
    "cv2.imshow('detection', image) \n",
    "cv2.waitKey(0)  \n",
    "cv2.destroyAllWindows()"
   ]
  },
  {
   "cell_type": "code",
   "execution_count": 5,
   "id": "0764f6b9",
   "metadata": {},
   "outputs": [],
   "source": [
    "import os\n",
    "\n",
    "with open(\"val_paths.txt\", \"w\") as a:\n",
    "    for path, subdirs, files in os.walk('C:/Users/user/Projects/chess_bot/dataset/chess_net/val'):\n",
    "       for filename in files:\n",
    "         if filename.endswith('.xml'):\n",
    "            f = os.path.join(path, filename)\n",
    "            a.write(str(f) + os.linesep) "
   ]
  },
  {
   "cell_type": "code",
   "execution_count": null,
   "id": "5eef9752",
   "metadata": {},
   "outputs": [],
   "source": [
    "# train command\n",
    "#! python dataset/train.py assets/models/pieces_detection/rtmdet-tiny/rtmdet_chess_net.py"
   ]
  }
 ],
 "metadata": {
  "kernelspec": {
   "display_name": "Python 3 (ipykernel)",
   "language": "python",
   "name": "python3"
  },
  "language_info": {
   "codemirror_mode": {
    "name": "ipython",
    "version": 3
   },
   "file_extension": ".py",
   "mimetype": "text/x-python",
   "name": "python",
   "nbconvert_exporter": "python",
   "pygments_lexer": "ipython3",
   "version": "3.11.7"
  }
 },
 "nbformat": 4,
 "nbformat_minor": 5
}
